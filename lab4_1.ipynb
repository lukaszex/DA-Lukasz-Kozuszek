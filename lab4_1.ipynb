{
 "cells": [
  {
   "cell_type": "code",
   "execution_count": 1,
   "metadata": {},
   "outputs": [],
   "source": [
    "import pandas as pd\n",
    "import pystan\n",
    "import arviz as az\n",
    "import numpy as np\n",
    "import scipy.stats as stats\n",
    "import matplotlib.pyplot as plt"
   ]
  },
  {
   "cell_type": "code",
   "execution_count": 6,
   "metadata": {},
   "outputs": [
    {
     "data": {
      "text/html": [
       "<div>\n",
       "<style scoped>\n",
       "    .dataframe tbody tr th:only-of-type {\n",
       "        vertical-align: middle;\n",
       "    }\n",
       "\n",
       "    .dataframe tbody tr th {\n",
       "        vertical-align: top;\n",
       "    }\n",
       "\n",
       "    .dataframe thead th {\n",
       "        text-align: right;\n",
       "    }\n",
       "</style>\n",
       "<table border=\"1\" class=\"dataframe\">\n",
       "  <thead>\n",
       "    <tr style=\"text-align: right;\">\n",
       "      <th></th>\n",
       "      <th>Year</th>\n",
       "      <th>Fatal accidents</th>\n",
       "      <th>Passenger deaths</th>\n",
       "      <th>Death rate</th>\n",
       "      <th>Miles flown [100 mln miles]</th>\n",
       "    </tr>\n",
       "  </thead>\n",
       "  <tbody>\n",
       "    <tr>\n",
       "      <td>0</td>\n",
       "      <td>1976</td>\n",
       "      <td>24</td>\n",
       "      <td>734</td>\n",
       "      <td>0.19</td>\n",
       "      <td>3863.0</td>\n",
       "    </tr>\n",
       "    <tr>\n",
       "      <td>1</td>\n",
       "      <td>1977</td>\n",
       "      <td>25</td>\n",
       "      <td>516</td>\n",
       "      <td>0.12</td>\n",
       "      <td>4300.0</td>\n",
       "    </tr>\n",
       "    <tr>\n",
       "      <td>2</td>\n",
       "      <td>1978</td>\n",
       "      <td>31</td>\n",
       "      <td>754</td>\n",
       "      <td>0.15</td>\n",
       "      <td>5027.0</td>\n",
       "    </tr>\n",
       "    <tr>\n",
       "      <td>3</td>\n",
       "      <td>1979</td>\n",
       "      <td>31</td>\n",
       "      <td>877</td>\n",
       "      <td>0.16</td>\n",
       "      <td>5481.0</td>\n",
       "    </tr>\n",
       "    <tr>\n",
       "      <td>4</td>\n",
       "      <td>1980</td>\n",
       "      <td>22</td>\n",
       "      <td>814</td>\n",
       "      <td>0.14</td>\n",
       "      <td>5814.0</td>\n",
       "    </tr>\n",
       "  </tbody>\n",
       "</table>\n",
       "</div>"
      ],
      "text/plain": [
       "   Year  Fatal accidents  Passenger deaths  Death rate  \\\n",
       "0  1976               24               734        0.19   \n",
       "1  1977               25               516        0.12   \n",
       "2  1978               31               754        0.15   \n",
       "3  1979               31               877        0.16   \n",
       "4  1980               22               814        0.14   \n",
       "\n",
       "   Miles flown [100 mln miles]  \n",
       "0                       3863.0  \n",
       "1                       4300.0  \n",
       "2                       5027.0  \n",
       "3                       5481.0  \n",
       "4                       5814.0  "
      ]
     },
     "execution_count": 6,
     "metadata": {},
     "output_type": "execute_result"
    }
   ],
   "source": [
    "#We import the data.\n",
    "data = pd.read_csv(r'C:\\Users\\HP\\Desktop\\chwytak\\Data Analytics\\airlines.csv')\n",
    "data.head()"
   ]
  },
  {
   "cell_type": "code",
   "execution_count": 14,
   "metadata": {},
   "outputs": [
    {
     "name": "stdout",
     "output_type": "stream",
     "text": [
      "Lambda root: 1701.2609653810505\n"
     ]
    }
   ],
   "source": [
    "#In the first model we consider number of passenger deaths to have a Poisson distribution with a constant rate (lambda).\n",
    "#Using three-sigma rule, we may find lambda, for which probability of 5 people dying every day\n",
    "#(i.e. 1825 per year) is not greater than 1%.\n",
    "#We solve the equation: lamda + 3*sqrt(lambda) = 1825.\n",
    "lambdaRoots = np.roots([1, 3, -1825])\n",
    "for lambdaRoot in lambdaRoots:\n",
    "    if lambdaRoot > 0:\n",
    "        print('Lambda root: {}'.format(lambdaRoot**2))"
   ]
  },
  {
   "cell_type": "code",
   "execution_count": 8,
   "metadata": {},
   "outputs": [
    {
     "name": "stderr",
     "output_type": "stream",
     "text": [
      "INFO:pystan:COMPILING THE C++ CODE FOR MODEL anon_model_131d781230817473c6db11d99f43d4ca NOW.\n"
     ]
    }
   ],
   "source": [
    "#We need to find a distribution that will guarantee that 99% of probability lies below 1701. \n",
    "#We may use a half-normal distribution, which is a doubled absolute value of normal distribution.\n",
    "#Using Stan, we find value of its variance, so that the above condition is met.\n",
    "halfNormal99 = \"\"\"\n",
    "functions {\n",
    "    vector tail_halfNormal (vector y, vector theta, real[] x_r, int[] x_i) {\n",
    "        vector[1] deltas;\n",
    "        deltas[1] = 2*(normal_cdf(theta[1], 0, exp(y[1])) - 0.5) - 0.99;\n",
    "        return deltas;\n",
    "    }\n",
    "}\n",
    "data {\n",
    "    vector[1] y_guess;\n",
    "    vector[1] theta;\n",
    "}\n",
    "transformed data {\n",
    "    vector[1] y;\n",
    "    real x_r[0];\n",
    "    int x_i[0];\n",
    "    y = algebra_solver(tail_halfNormal, y_guess, theta, x_r, x_i);\n",
    "}\n",
    "generated quantities {\n",
    "    real sigma = exp(y[1]);\n",
    "}\n",
    "\n",
    "\"\"\"\n",
    "halfNormal99Model = pystan.StanModel(model_code = halfNormal99)"
   ]
  },
  {
   "cell_type": "code",
   "execution_count": 15,
   "metadata": {},
   "outputs": [
    {
     "name": "stdout",
     "output_type": "stream",
     "text": [
      "Sigma: 660.3698458032177\n"
     ]
    }
   ],
   "source": [
    "dataHalfNormal99 = {'y_guess': np.array([np.log(565)]), 'theta': np.array([1701])}\n",
    "sim_pcc_99 = halfNormal99Model.sampling(data = dataHalfNormal99, algorithm = 'Fixed_param', iter = 1)\n",
    "print('Sigma: {}'.format(sim_pcc_99.extract()['sigma'][0]))"
   ]
  },
  {
   "cell_type": "code",
   "execution_count": 27,
   "metadata": {},
   "outputs": [
    {
     "name": "stderr",
     "output_type": "stream",
     "text": [
      "INFO:pystan:COMPILING THE C++ CODE FOR MODEL anon_model_5605b952c7234e00fa6bcee2eec4eb08 NOW.\n"
     ]
    }
   ],
   "source": [
    "#We now know that lambda having a half-normal distribution (0, 660) will guarantee that with 99%\n",
    "#probability there will be less than 5 deaths per day.\n",
    "#We may now model our prior distribution.\n",
    "prior = \"\"\"\n",
    "data {\n",
    "    int M;\n",
    "}\n",
    "generated quantities {\n",
    "    real lambda = fabs(normal_rng(0, 660));\n",
    "    int y_sim[M];\n",
    "    for(k in 1:M) {\n",
    "        y_sim[k] = poisson_rng(lambda);\n",
    "    }        \n",
    "}\n",
    "\"\"\"\n",
    "priorModel = pystan.StanModel(model_code = prior)"
   ]
  },
  {
   "cell_type": "code",
   "execution_count": 53,
   "metadata": {},
   "outputs": [
    {
     "name": "stderr",
     "output_type": "stream",
     "text": [
      "WARNING:pystan:`warmup=0` forced with `algorithm=\"Fixed_param\"`.\n"
     ]
    }
   ],
   "source": [
    "dataPrior = {'M': 1}\n",
    "sim_pcc_prior = priorModel.sampling(data = dataPrior, algorithm = 'Fixed_param', iter = 1000)\n",
    "paramsLambda = pd.DataFrame(sim_pcc_prior.extract()['lambda'])\n",
    "paramsDeaths = pd.DataFrame(sim_pcc_prior.extract()['y_sim'])\n",
    "params = paramsLambda.merge(paramsDeaths, left_index = True, right_index = True)\n",
    "params.columns = ['lambda', 'deaths']"
   ]
  },
  {
   "cell_type": "code",
   "execution_count": 60,
   "metadata": {},
   "outputs": [
    {
     "data": {
      "image/png": "[encoded data removed]",
      "text/plain": [
       "<Figure size 1440x1440 with 2 Axes>"
      ]
     },
     "metadata": {
      "needs_background": "light"
     },
     "output_type": "display_data"
    }
   ],
   "source": [
    "#We plot the histograms of lambda and number of deaths.\n",
    "fig, axes = plt.subplots(2, 1, figsize = [20, 20])\n",
    "ax1 = axes[0]\n",
    "x = np.linspace(0, 2000, 20000)\n",
    "ax1.set_title('Lambda')\n",
    "ax1.set_xlim([0, 2000])\n",
    "ax1.hist(params['lambda'], bins = 50, label = 'Lambda')\n",
    "ax1.plot(x, 408333*stats.norm.pdf(x, 0, 660), '--', linewidth = 5, label = 'Half-normal(0, 660)')\n",
    "ax1.grid()\n",
    "ax1.legend(prop = {'size': 20})\n",
    "ax2 = axes[1]\n",
    "ax2.set_title('Number of passangers\\' deaths')\n",
    "ax2.set_xlim([0, 2000])\n",
    "ax2.hist(params['deaths'], bins = 50)\n",
    "ax2.grid()\n",
    "plt.show()"
   ]
  },
  {
   "cell_type": "code",
   "execution_count": 61,
   "metadata": {},
   "outputs": [
    {
     "name": "stderr",
     "output_type": "stream",
     "text": [
      "INFO:pystan:COMPILING THE C++ CODE FOR MODEL anon_model_917d5513793d5dbde5dc1ae0a2e64fdb NOW.\n"
     ]
    }
   ],
   "source": [
    "#Now we prepare model with posterior inference.\n",
    "posterior = \"\"\"\n",
    "data {\n",
    "    int M;\n",
    "    int y[M];\n",
    "}\n",
    "parameters {\n",
    "    real<lower=0>lambda;\n",
    "}\n",
    "model {\n",
    "    lambda ~ normal(0, 660);\n",
    "    for (k in 1:M) {\n",
    "        y[k] ~ poisson(lambda);\n",
    "    }\n",
    "}\n",
    "generated quantities {\n",
    "    int y_sim[M];\n",
    "    for (k in 1:M) {\n",
    "        y_sim[k] = poisson_rng(lambda);\n",
    "    }\n",
    "}\n",
    "\"\"\"\n",
    "posteriorModel = pystan.StanModel(model_code = posterior)"
   ]
  },
  {
   "cell_type": "code",
   "execution_count": 70,
   "metadata": {},
   "outputs": [
    {
     "name": "stderr",
     "output_type": "stream",
     "text": [
      "WARNING:pystan:`warmup=0` forced with `algorithm=\"Fixed_param\"`.\n"
     ]
    },
    {
     "data": {
      "text/html": [
       "<div>\n",
       "<style scoped>\n",
       "    .dataframe tbody tr th:only-of-type {\n",
       "        vertical-align: middle;\n",
       "    }\n",
       "\n",
       "    .dataframe tbody tr th {\n",
       "        vertical-align: top;\n",
       "    }\n",
       "\n",
       "    .dataframe thead th {\n",
       "        text-align: right;\n",
       "    }\n",
       "</style>\n",
       "<table border=\"1\" class=\"dataframe\">\n",
       "  <thead>\n",
       "    <tr style=\"text-align: right;\">\n",
       "      <th></th>\n",
       "      <th>0_x</th>\n",
       "      <th>0_y</th>\n",
       "      <th>1</th>\n",
       "      <th>2</th>\n",
       "      <th>3</th>\n",
       "      <th>4</th>\n",
       "      <th>5</th>\n",
       "      <th>6</th>\n",
       "      <th>7</th>\n",
       "      <th>8</th>\n",
       "      <th>9</th>\n",
       "    </tr>\n",
       "  </thead>\n",
       "  <tbody>\n",
       "    <tr>\n",
       "      <td>0</td>\n",
       "      <td>2.158367</td>\n",
       "      <td>1.0</td>\n",
       "      <td>4.0</td>\n",
       "      <td>2.0</td>\n",
       "      <td>6.0</td>\n",
       "      <td>2.0</td>\n",
       "      <td>4.0</td>\n",
       "      <td>3.0</td>\n",
       "      <td>2.0</td>\n",
       "      <td>0.0</td>\n",
       "      <td>2.0</td>\n",
       "    </tr>\n",
       "    <tr>\n",
       "      <td>1</td>\n",
       "      <td>2.158367</td>\n",
       "      <td>0.0</td>\n",
       "      <td>2.0</td>\n",
       "      <td>4.0</td>\n",
       "      <td>1.0</td>\n",
       "      <td>4.0</td>\n",
       "      <td>1.0</td>\n",
       "      <td>0.0</td>\n",
       "      <td>3.0</td>\n",
       "      <td>3.0</td>\n",
       "      <td>3.0</td>\n",
       "    </tr>\n",
       "    <tr>\n",
       "      <td>2</td>\n",
       "      <td>2.158367</td>\n",
       "      <td>5.0</td>\n",
       "      <td>5.0</td>\n",
       "      <td>1.0</td>\n",
       "      <td>2.0</td>\n",
       "      <td>2.0</td>\n",
       "      <td>3.0</td>\n",
       "      <td>0.0</td>\n",
       "      <td>2.0</td>\n",
       "      <td>4.0</td>\n",
       "      <td>1.0</td>\n",
       "    </tr>\n",
       "    <tr>\n",
       "      <td>3</td>\n",
       "      <td>2.158367</td>\n",
       "      <td>2.0</td>\n",
       "      <td>1.0</td>\n",
       "      <td>3.0</td>\n",
       "      <td>0.0</td>\n",
       "      <td>3.0</td>\n",
       "      <td>2.0</td>\n",
       "      <td>4.0</td>\n",
       "      <td>1.0</td>\n",
       "      <td>2.0</td>\n",
       "      <td>3.0</td>\n",
       "    </tr>\n",
       "    <tr>\n",
       "      <td>4</td>\n",
       "      <td>2.158367</td>\n",
       "      <td>3.0</td>\n",
       "      <td>3.0</td>\n",
       "      <td>2.0</td>\n",
       "      <td>2.0</td>\n",
       "      <td>4.0</td>\n",
       "      <td>2.0</td>\n",
       "      <td>0.0</td>\n",
       "      <td>1.0</td>\n",
       "      <td>1.0</td>\n",
       "      <td>3.0</td>\n",
       "    </tr>\n",
       "  </tbody>\n",
       "</table>\n",
       "</div>"
      ],
      "text/plain": [
       "        0_x  0_y    1    2    3    4    5    6    7    8    9\n",
       "0  2.158367  1.0  4.0  2.0  6.0  2.0  4.0  3.0  2.0  0.0  2.0\n",
       "1  2.158367  0.0  2.0  4.0  1.0  4.0  1.0  0.0  3.0  3.0  3.0\n",
       "2  2.158367  5.0  5.0  1.0  2.0  2.0  3.0  0.0  2.0  4.0  1.0\n",
       "3  2.158367  2.0  1.0  3.0  0.0  3.0  2.0  4.0  1.0  2.0  3.0\n",
       "4  2.158367  3.0  3.0  2.0  2.0  4.0  2.0  0.0  1.0  1.0  3.0"
      ]
     },
     "execution_count": 70,
     "metadata": {},
     "output_type": "execute_result"
    }
   ],
   "source": [
    "dataPosterior = {'M': data.shape[0], 'y': data['Passenger deaths']}\n",
    "sim_pcc_posterior = posteriorModel.sampling(data = dataPosterior, algorithm = 'Fixed_param', iter = 1000)\n",
    "paramsLambda = pd.DataFrame(sim_pcc_posterior.extract()['lambda'])\n",
    "paramsDeaths = pd.DataFrame(sim_pcc_posterior.extract()['y_sim'])\n",
    "params = paramsLambda.merge(paramsDeaths, left_index = True, right_index = True)\n",
    "params.head()"
   ]
  },
  {
   "cell_type": "code",
   "execution_count": null,
   "metadata": {},
   "outputs": [],
   "source": []
  }
 ],
 "metadata": {
  "kernelspec": {
   "display_name": "Python 3",
   "language": "python",
   "name": "python3"
  },
  "language_info": {
   "codemirror_mode": {
    "name": "ipython",
    "version": 3
   },
   "file_extension": ".py",
   "mimetype": "text/x-python",
   "name": "python",
   "nbconvert_exporter": "python",
   "pygments_lexer": "ipython3",
   "version": "3.7.4"
  }
 },
 "nbformat": 4,
 "nbformat_minor": 2
}
